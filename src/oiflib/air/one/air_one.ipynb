{
 "metadata": {
  "language_info": {
   "codemirror_mode": {
    "name": "ipython",
    "version": 3
   },
   "file_extension": ".py",
   "mimetype": "text/x-python",
   "name": "python",
   "nbconvert_exporter": "python",
   "pygments_lexer": "ipython3",
   "version": "3.9.1-final"
  },
  "orig_nbformat": 2,
  "kernelspec": {
   "name": "python3",
   "display_name": "Python 3",
   "language": "python"
  }
 },
 "nbformat": 4,
 "nbformat_minor": 2,
 "cells": [
  {
   "cell_type": "code",
   "execution_count": 1,
   "metadata": {},
   "outputs": [],
   "source": [
    "from oiflib.air.one.enrich import enrich_air_one\n",
    "from oiflib.air.one.extract import extract_air_one\n",
    "from oiflib.air.one.transform import transform_air_one\n",
    "from oiflib.air.one.validate import validate_air_one_extracted, validate_air_one_transformed, validate_air_one_enriched"
   ]
  },
  {
   "cell_type": "code",
   "execution_count": 2,
   "metadata": {},
   "outputs": [
    {
     "output_type": "execute_result",
     "data": {
      "text/plain": [
       "  ShortPollName NFRCode                                      SourceName  \\\n",
       "0            CO    1A1a                                  Autogenerators   \n",
       "1            CO    1A1a  Miscellaneous industrial/commercial combustion   \n",
       "2            CO    1A1a                                  Power stations   \n",
       "3            CO    1A1a                        Public sector combustion   \n",
       "4            CO    1A1b                         Refineries - combustion   \n",
       "\n",
       "        1990       1995       1998       1999       2000       2001  \\\n",
       "0   0.000000   0.000000   0.000861   0.000987   0.001225   0.001165   \n",
       "1   0.372920   0.285545   0.104246   0.108912   0.118016   0.123270   \n",
       "2  91.485663  85.075695  48.035092  43.356297  52.875139  53.176906   \n",
       "3   0.009175   0.015521   0.014372   0.014410   0.012844   0.013138   \n",
       "4   4.455526   4.998781   5.248910   4.862012   3.785558   2.391528   \n",
       "\n",
       "        2002  ...       2009       2010       2011       2012       2013  \\\n",
       "0   0.001197  ...   0.072842   0.188518   0.380950   0.773427   1.108654   \n",
       "1   0.126718  ...   0.135080   0.127430   0.144871   0.148156   0.172320   \n",
       "2  52.253263  ...  49.778303  54.550899  56.543332  67.445893  65.244769   \n",
       "3   0.014227  ...   0.013591   0.015413   0.017175   0.017028   0.018264   \n",
       "4   2.788338  ...   4.460696   3.287260   2.801700   3.162767   3.266939   \n",
       "\n",
       "        2014       2015       2016       2017       2018  \n",
       "0   1.654888   2.648169   4.194255   4.936837   5.536873  \n",
       "1   0.125973   0.133799   0.127731   0.144326   0.136516  \n",
       "2  55.655886  46.738127  30.714808  30.172769  38.881950  \n",
       "3   0.018127   0.019443   0.019173   0.022132   0.021411  \n",
       "4   4.154463   5.523977   4.606405   4.050079   3.934826  \n",
       "\n",
       "[5 rows x 26 columns]"
      ],
      "text/html": "<div>\n<style scoped>\n    .dataframe tbody tr th:only-of-type {\n        vertical-align: middle;\n    }\n\n    .dataframe tbody tr th {\n        vertical-align: top;\n    }\n\n    .dataframe thead th {\n        text-align: right;\n    }\n</style>\n<table border=\"1\" class=\"dataframe\">\n  <thead>\n    <tr style=\"text-align: right;\">\n      <th></th>\n      <th>ShortPollName</th>\n      <th>NFRCode</th>\n      <th>SourceName</th>\n      <th>1990</th>\n      <th>1995</th>\n      <th>1998</th>\n      <th>1999</th>\n      <th>2000</th>\n      <th>2001</th>\n      <th>2002</th>\n      <th>...</th>\n      <th>2009</th>\n      <th>2010</th>\n      <th>2011</th>\n      <th>2012</th>\n      <th>2013</th>\n      <th>2014</th>\n      <th>2015</th>\n      <th>2016</th>\n      <th>2017</th>\n      <th>2018</th>\n    </tr>\n  </thead>\n  <tbody>\n    <tr>\n      <th>0</th>\n      <td>CO</td>\n      <td>1A1a</td>\n      <td>Autogenerators</td>\n      <td>0.000000</td>\n      <td>0.000000</td>\n      <td>0.000861</td>\n      <td>0.000987</td>\n      <td>0.001225</td>\n      <td>0.001165</td>\n      <td>0.001197</td>\n      <td>...</td>\n      <td>0.072842</td>\n      <td>0.188518</td>\n      <td>0.380950</td>\n      <td>0.773427</td>\n      <td>1.108654</td>\n      <td>1.654888</td>\n      <td>2.648169</td>\n      <td>4.194255</td>\n      <td>4.936837</td>\n      <td>5.536873</td>\n    </tr>\n    <tr>\n      <th>1</th>\n      <td>CO</td>\n      <td>1A1a</td>\n      <td>Miscellaneous industrial/commercial combustion</td>\n      <td>0.372920</td>\n      <td>0.285545</td>\n      <td>0.104246</td>\n      <td>0.108912</td>\n      <td>0.118016</td>\n      <td>0.123270</td>\n      <td>0.126718</td>\n      <td>...</td>\n      <td>0.135080</td>\n      <td>0.127430</td>\n      <td>0.144871</td>\n      <td>0.148156</td>\n      <td>0.172320</td>\n      <td>0.125973</td>\n      <td>0.133799</td>\n      <td>0.127731</td>\n      <td>0.144326</td>\n      <td>0.136516</td>\n    </tr>\n    <tr>\n      <th>2</th>\n      <td>CO</td>\n      <td>1A1a</td>\n      <td>Power stations</td>\n      <td>91.485663</td>\n      <td>85.075695</td>\n      <td>48.035092</td>\n      <td>43.356297</td>\n      <td>52.875139</td>\n      <td>53.176906</td>\n      <td>52.253263</td>\n      <td>...</td>\n      <td>49.778303</td>\n      <td>54.550899</td>\n      <td>56.543332</td>\n      <td>67.445893</td>\n      <td>65.244769</td>\n      <td>55.655886</td>\n      <td>46.738127</td>\n      <td>30.714808</td>\n      <td>30.172769</td>\n      <td>38.881950</td>\n    </tr>\n    <tr>\n      <th>3</th>\n      <td>CO</td>\n      <td>1A1a</td>\n      <td>Public sector combustion</td>\n      <td>0.009175</td>\n      <td>0.015521</td>\n      <td>0.014372</td>\n      <td>0.014410</td>\n      <td>0.012844</td>\n      <td>0.013138</td>\n      <td>0.014227</td>\n      <td>...</td>\n      <td>0.013591</td>\n      <td>0.015413</td>\n      <td>0.017175</td>\n      <td>0.017028</td>\n      <td>0.018264</td>\n      <td>0.018127</td>\n      <td>0.019443</td>\n      <td>0.019173</td>\n      <td>0.022132</td>\n      <td>0.021411</td>\n    </tr>\n    <tr>\n      <th>4</th>\n      <td>CO</td>\n      <td>1A1b</td>\n      <td>Refineries - combustion</td>\n      <td>4.455526</td>\n      <td>4.998781</td>\n      <td>5.248910</td>\n      <td>4.862012</td>\n      <td>3.785558</td>\n      <td>2.391528</td>\n      <td>2.788338</td>\n      <td>...</td>\n      <td>4.460696</td>\n      <td>3.287260</td>\n      <td>2.801700</td>\n      <td>3.162767</td>\n      <td>3.266939</td>\n      <td>4.154463</td>\n      <td>5.523977</td>\n      <td>4.606405</td>\n      <td>4.050079</td>\n      <td>3.934826</td>\n    </tr>\n  </tbody>\n</table>\n<p>5 rows × 26 columns</p>\n</div>"
     },
     "metadata": {},
     "execution_count": 2
    }
   ],
   "source": [
    "df_extracted = extract_air_one()\n",
    "df_extracted.head()"
   ]
  },
  {
   "cell_type": "code",
   "execution_count": 3,
   "metadata": {},
   "outputs": [
    {
     "output_type": "execute_result",
     "data": {
      "text/plain": [
       "  ShortPollName NFRCode                                      SourceName  \\\n",
       "0            CO    1A1a                                  Autogenerators   \n",
       "1            CO    1A1a  Miscellaneous industrial/commercial combustion   \n",
       "2            CO    1A1a                                  Power stations   \n",
       "3            CO    1A1a                        Public sector combustion   \n",
       "4            CO    1A1b                         Refineries - combustion   \n",
       "\n",
       "        1990       1995       1998       1999       2000       2001  \\\n",
       "0   0.000000   0.000000   0.000861   0.000987   0.001225   0.001165   \n",
       "1   0.372920   0.285545   0.104246   0.108912   0.118016   0.123270   \n",
       "2  91.485663  85.075695  48.035092  43.356297  52.875139  53.176906   \n",
       "3   0.009175   0.015521   0.014372   0.014410   0.012844   0.013138   \n",
       "4   4.455526   4.998781   5.248910   4.862012   3.785558   2.391528   \n",
       "\n",
       "        2002  ...       2009       2010       2011       2012       2013  \\\n",
       "0   0.001197  ...   0.072842   0.188518   0.380950   0.773427   1.108654   \n",
       "1   0.126718  ...   0.135080   0.127430   0.144871   0.148156   0.172320   \n",
       "2  52.253263  ...  49.778303  54.550899  56.543332  67.445893  65.244769   \n",
       "3   0.014227  ...   0.013591   0.015413   0.017175   0.017028   0.018264   \n",
       "4   2.788338  ...   4.460696   3.287260   2.801700   3.162767   3.266939   \n",
       "\n",
       "        2014       2015       2016       2017       2018  \n",
       "0   1.654888   2.648169   4.194255   4.936837   5.536873  \n",
       "1   0.125973   0.133799   0.127731   0.144326   0.136516  \n",
       "2  55.655886  46.738127  30.714808  30.172769  38.881950  \n",
       "3   0.018127   0.019443   0.019173   0.022132   0.021411  \n",
       "4   4.154463   5.523977   4.606405   4.050079   3.934826  \n",
       "\n",
       "[5 rows x 26 columns]"
      ],
      "text/html": "<div>\n<style scoped>\n    .dataframe tbody tr th:only-of-type {\n        vertical-align: middle;\n    }\n\n    .dataframe tbody tr th {\n        vertical-align: top;\n    }\n\n    .dataframe thead th {\n        text-align: right;\n    }\n</style>\n<table border=\"1\" class=\"dataframe\">\n  <thead>\n    <tr style=\"text-align: right;\">\n      <th></th>\n      <th>ShortPollName</th>\n      <th>NFRCode</th>\n      <th>SourceName</th>\n      <th>1990</th>\n      <th>1995</th>\n      <th>1998</th>\n      <th>1999</th>\n      <th>2000</th>\n      <th>2001</th>\n      <th>2002</th>\n      <th>...</th>\n      <th>2009</th>\n      <th>2010</th>\n      <th>2011</th>\n      <th>2012</th>\n      <th>2013</th>\n      <th>2014</th>\n      <th>2015</th>\n      <th>2016</th>\n      <th>2017</th>\n      <th>2018</th>\n    </tr>\n  </thead>\n  <tbody>\n    <tr>\n      <th>0</th>\n      <td>CO</td>\n      <td>1A1a</td>\n      <td>Autogenerators</td>\n      <td>0.000000</td>\n      <td>0.000000</td>\n      <td>0.000861</td>\n      <td>0.000987</td>\n      <td>0.001225</td>\n      <td>0.001165</td>\n      <td>0.001197</td>\n      <td>...</td>\n      <td>0.072842</td>\n      <td>0.188518</td>\n      <td>0.380950</td>\n      <td>0.773427</td>\n      <td>1.108654</td>\n      <td>1.654888</td>\n      <td>2.648169</td>\n      <td>4.194255</td>\n      <td>4.936837</td>\n      <td>5.536873</td>\n    </tr>\n    <tr>\n      <th>1</th>\n      <td>CO</td>\n      <td>1A1a</td>\n      <td>Miscellaneous industrial/commercial combustion</td>\n      <td>0.372920</td>\n      <td>0.285545</td>\n      <td>0.104246</td>\n      <td>0.108912</td>\n      <td>0.118016</td>\n      <td>0.123270</td>\n      <td>0.126718</td>\n      <td>...</td>\n      <td>0.135080</td>\n      <td>0.127430</td>\n      <td>0.144871</td>\n      <td>0.148156</td>\n      <td>0.172320</td>\n      <td>0.125973</td>\n      <td>0.133799</td>\n      <td>0.127731</td>\n      <td>0.144326</td>\n      <td>0.136516</td>\n    </tr>\n    <tr>\n      <th>2</th>\n      <td>CO</td>\n      <td>1A1a</td>\n      <td>Power stations</td>\n      <td>91.485663</td>\n      <td>85.075695</td>\n      <td>48.035092</td>\n      <td>43.356297</td>\n      <td>52.875139</td>\n      <td>53.176906</td>\n      <td>52.253263</td>\n      <td>...</td>\n      <td>49.778303</td>\n      <td>54.550899</td>\n      <td>56.543332</td>\n      <td>67.445893</td>\n      <td>65.244769</td>\n      <td>55.655886</td>\n      <td>46.738127</td>\n      <td>30.714808</td>\n      <td>30.172769</td>\n      <td>38.881950</td>\n    </tr>\n    <tr>\n      <th>3</th>\n      <td>CO</td>\n      <td>1A1a</td>\n      <td>Public sector combustion</td>\n      <td>0.009175</td>\n      <td>0.015521</td>\n      <td>0.014372</td>\n      <td>0.014410</td>\n      <td>0.012844</td>\n      <td>0.013138</td>\n      <td>0.014227</td>\n      <td>...</td>\n      <td>0.013591</td>\n      <td>0.015413</td>\n      <td>0.017175</td>\n      <td>0.017028</td>\n      <td>0.018264</td>\n      <td>0.018127</td>\n      <td>0.019443</td>\n      <td>0.019173</td>\n      <td>0.022132</td>\n      <td>0.021411</td>\n    </tr>\n    <tr>\n      <th>4</th>\n      <td>CO</td>\n      <td>1A1b</td>\n      <td>Refineries - combustion</td>\n      <td>4.455526</td>\n      <td>4.998781</td>\n      <td>5.248910</td>\n      <td>4.862012</td>\n      <td>3.785558</td>\n      <td>2.391528</td>\n      <td>2.788338</td>\n      <td>...</td>\n      <td>4.460696</td>\n      <td>3.287260</td>\n      <td>2.801700</td>\n      <td>3.162767</td>\n      <td>3.266939</td>\n      <td>4.154463</td>\n      <td>5.523977</td>\n      <td>4.606405</td>\n      <td>4.050079</td>\n      <td>3.934826</td>\n    </tr>\n  </tbody>\n</table>\n<p>5 rows × 26 columns</p>\n</div>"
     },
     "metadata": {},
     "execution_count": 3
    }
   ],
   "source": [
    "df_extracted_validated = validate_air_one_extracted(df_extracted)\n",
    "df_extracted_validated.head()"
   ]
  },
  {
   "cell_type": "code",
   "execution_count": 4,
   "metadata": {},
   "outputs": [
    {
     "output_type": "execute_result",
     "data": {
      "text/plain": [
       "  ShortPollName  Year    Emissions\n",
       "0           NOx  1990  2397.847344\n",
       "1         PM2.5  1990   174.144903\n",
       "2           SO2  1990  3134.835121\n",
       "3         NMVOC  1990  2109.138181\n",
       "4           NH3  1990   232.760876"
      ],
      "text/html": "<div>\n<style scoped>\n    .dataframe tbody tr th:only-of-type {\n        vertical-align: middle;\n    }\n\n    .dataframe tbody tr th {\n        vertical-align: top;\n    }\n\n    .dataframe thead th {\n        text-align: right;\n    }\n</style>\n<table border=\"1\" class=\"dataframe\">\n  <thead>\n    <tr style=\"text-align: right;\">\n      <th></th>\n      <th>ShortPollName</th>\n      <th>Year</th>\n      <th>Emissions</th>\n    </tr>\n  </thead>\n  <tbody>\n    <tr>\n      <th>0</th>\n      <td>NOx</td>\n      <td>1990</td>\n      <td>2397.847344</td>\n    </tr>\n    <tr>\n      <th>1</th>\n      <td>PM2.5</td>\n      <td>1990</td>\n      <td>174.144903</td>\n    </tr>\n    <tr>\n      <th>2</th>\n      <td>SO2</td>\n      <td>1990</td>\n      <td>3134.835121</td>\n    </tr>\n    <tr>\n      <th>3</th>\n      <td>NMVOC</td>\n      <td>1990</td>\n      <td>2109.138181</td>\n    </tr>\n    <tr>\n      <th>4</th>\n      <td>NH3</td>\n      <td>1990</td>\n      <td>232.760876</td>\n    </tr>\n  </tbody>\n</table>\n</div>"
     },
     "metadata": {},
     "execution_count": 4
    }
   ],
   "source": [
    "df_transformed = transform_air_one(df_extracted_validated)\n",
    "df_transformed.head()"
   ]
  },
  {
   "cell_type": "code",
   "execution_count": 5,
   "metadata": {},
   "outputs": [
    {
     "output_type": "execute_result",
     "data": {
      "text/plain": [
       "  ShortPollName  Year    Emissions\n",
       "0           NOx  1990  2397.847344\n",
       "1         PM2.5  1990   174.144903\n",
       "2           SO2  1990  3134.835121\n",
       "3         NMVOC  1990  2109.138181\n",
       "4           NH3  1990   232.760876"
      ],
      "text/html": "<div>\n<style scoped>\n    .dataframe tbody tr th:only-of-type {\n        vertical-align: middle;\n    }\n\n    .dataframe tbody tr th {\n        vertical-align: top;\n    }\n\n    .dataframe thead th {\n        text-align: right;\n    }\n</style>\n<table border=\"1\" class=\"dataframe\">\n  <thead>\n    <tr style=\"text-align: right;\">\n      <th></th>\n      <th>ShortPollName</th>\n      <th>Year</th>\n      <th>Emissions</th>\n    </tr>\n  </thead>\n  <tbody>\n    <tr>\n      <th>0</th>\n      <td>NOx</td>\n      <td>1990</td>\n      <td>2397.847344</td>\n    </tr>\n    <tr>\n      <th>1</th>\n      <td>PM2.5</td>\n      <td>1990</td>\n      <td>174.144903</td>\n    </tr>\n    <tr>\n      <th>2</th>\n      <td>SO2</td>\n      <td>1990</td>\n      <td>3134.835121</td>\n    </tr>\n    <tr>\n      <th>3</th>\n      <td>NMVOC</td>\n      <td>1990</td>\n      <td>2109.138181</td>\n    </tr>\n    <tr>\n      <th>4</th>\n      <td>NH3</td>\n      <td>1990</td>\n      <td>232.760876</td>\n    </tr>\n  </tbody>\n</table>\n</div>"
     },
     "metadata": {},
     "execution_count": 5
    }
   ],
   "source": [
    "df_transformed_validated = validate_air_one_transformed(df_transformed)\n",
    "df_transformed_validated.head()"
   ]
  },
  {
   "cell_type": "code",
   "execution_count": 6,
   "metadata": {},
   "outputs": [
    {
     "output_type": "execute_result",
     "data": {
      "text/plain": [
       "  ShortPollName  Year    Emissions  Index\n",
       "0           NOx  1990  2397.847344  100.0\n",
       "1         PM2.5  1990   174.144903  100.0\n",
       "2           SO2  1990  3134.835121  100.0\n",
       "3         NMVOC  1990  2109.138181  100.0\n",
       "4           NH3  1990   232.760876  100.0"
      ],
      "text/html": "<div>\n<style scoped>\n    .dataframe tbody tr th:only-of-type {\n        vertical-align: middle;\n    }\n\n    .dataframe tbody tr th {\n        vertical-align: top;\n    }\n\n    .dataframe thead th {\n        text-align: right;\n    }\n</style>\n<table border=\"1\" class=\"dataframe\">\n  <thead>\n    <tr style=\"text-align: right;\">\n      <th></th>\n      <th>ShortPollName</th>\n      <th>Year</th>\n      <th>Emissions</th>\n      <th>Index</th>\n    </tr>\n  </thead>\n  <tbody>\n    <tr>\n      <th>0</th>\n      <td>NOx</td>\n      <td>1990</td>\n      <td>2397.847344</td>\n      <td>100.0</td>\n    </tr>\n    <tr>\n      <th>1</th>\n      <td>PM2.5</td>\n      <td>1990</td>\n      <td>174.144903</td>\n      <td>100.0</td>\n    </tr>\n    <tr>\n      <th>2</th>\n      <td>SO2</td>\n      <td>1990</td>\n      <td>3134.835121</td>\n      <td>100.0</td>\n    </tr>\n    <tr>\n      <th>3</th>\n      <td>NMVOC</td>\n      <td>1990</td>\n      <td>2109.138181</td>\n      <td>100.0</td>\n    </tr>\n    <tr>\n      <th>4</th>\n      <td>NH3</td>\n      <td>1990</td>\n      <td>232.760876</td>\n      <td>100.0</td>\n    </tr>\n  </tbody>\n</table>\n</div>"
     },
     "metadata": {},
     "execution_count": 6
    }
   ],
   "source": [
    "df_enriched = enrich_air_one(df_transformed_validated)\n",
    "df_enriched.head()"
   ]
  },
  {
   "cell_type": "code",
   "execution_count": 7,
   "metadata": {},
   "outputs": [
    {
     "output_type": "execute_result",
     "data": {
      "text/plain": [
       "  ShortPollName  Year    Emissions  Index\n",
       "0           NOx  1990  2397.847344  100.0\n",
       "1         PM2.5  1990   174.144903  100.0\n",
       "2           SO2  1990  3134.835121  100.0\n",
       "3         NMVOC  1990  2109.138181  100.0\n",
       "4           NH3  1990   232.760876  100.0"
      ],
      "text/html": "<div>\n<style scoped>\n    .dataframe tbody tr th:only-of-type {\n        vertical-align: middle;\n    }\n\n    .dataframe tbody tr th {\n        vertical-align: top;\n    }\n\n    .dataframe thead th {\n        text-align: right;\n    }\n</style>\n<table border=\"1\" class=\"dataframe\">\n  <thead>\n    <tr style=\"text-align: right;\">\n      <th></th>\n      <th>ShortPollName</th>\n      <th>Year</th>\n      <th>Emissions</th>\n      <th>Index</th>\n    </tr>\n  </thead>\n  <tbody>\n    <tr>\n      <th>0</th>\n      <td>NOx</td>\n      <td>1990</td>\n      <td>2397.847344</td>\n      <td>100.0</td>\n    </tr>\n    <tr>\n      <th>1</th>\n      <td>PM2.5</td>\n      <td>1990</td>\n      <td>174.144903</td>\n      <td>100.0</td>\n    </tr>\n    <tr>\n      <th>2</th>\n      <td>SO2</td>\n      <td>1990</td>\n      <td>3134.835121</td>\n      <td>100.0</td>\n    </tr>\n    <tr>\n      <th>3</th>\n      <td>NMVOC</td>\n      <td>1990</td>\n      <td>2109.138181</td>\n      <td>100.0</td>\n    </tr>\n    <tr>\n      <th>4</th>\n      <td>NH3</td>\n      <td>1990</td>\n      <td>232.760876</td>\n      <td>100.0</td>\n    </tr>\n  </tbody>\n</table>\n</div>"
     },
     "metadata": {},
     "execution_count": 7
    }
   ],
   "source": [
    "df_enriched_validated = validate_air_one_enriched(df_enriched)\n",
    "df_enriched_validated.head()"
   ]
  }
 ]
}