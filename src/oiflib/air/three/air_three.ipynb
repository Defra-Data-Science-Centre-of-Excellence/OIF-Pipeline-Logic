{
 "metadata": {
  "language_info": {
   "codemirror_mode": {
    "name": "ipython",
    "version": 3
   },
   "file_extension": ".py",
   "mimetype": "text/x-python",
   "name": "python",
   "nbconvert_exporter": "python",
   "pygments_lexer": "ipython3",
   "version": "3.9.1-final"
  },
  "orig_nbformat": 2,
  "kernelspec": {
   "name": "python3",
   "display_name": "Python 3",
   "language": "python"
  }
 },
 "nbformat": 4,
 "nbformat_minor": 2,
 "cells": [
  {
   "source": [
    "## Air Three"
   ],
   "cell_type": "markdown",
   "metadata": {}
  },
  {
   "cell_type": "code",
   "execution_count": 1,
   "metadata": {},
   "outputs": [],
   "source": [
    "from oiflib.air.three.extract import extract_air_three\n",
    "from oiflib.air.three.transform import transform_air_three\n",
    "from oiflib.air.three.validate import validate_air_three_extracted, validate_air_three_transformed"
   ]
  },
  {
   "cell_type": "code",
   "execution_count": 2,
   "metadata": {},
   "outputs": [
    {
     "output_type": "execute_result",
     "data": {
      "text/plain": [
       "  Area code  PM2.5 2011 (total)  PM2.5 2011 (non-anthropogenic)  \\\n",
       "0       Eng             12.0891                          2.6357   \n",
       "1       Wal              9.4192                          2.7214   \n",
       "2       Sco              8.0037                          2.5759   \n",
       "3       Nir              7.7701                          2.7103   \n",
       "\n",
       "   PM2.5 2011 (anthropogenic)           Country  PM2.5 2012 (total)  \\\n",
       "0                      9.4535           England             11.1081   \n",
       "1                      6.6978             Wales              8.7860   \n",
       "2                      5.4277          Scotland              7.6107   \n",
       "3                      5.0598  Northern Ireland              7.6487   \n",
       "\n",
       "   PM2.5 2012 (non-anthropogenic)  PM2.5 2012 (anthropogenic)  \\\n",
       "0                          2.1095                      8.9986   \n",
       "1                          2.1979                      6.5880   \n",
       "2                          2.0355                      5.5752   \n",
       "3                          2.1100                      5.5386   \n",
       "\n",
       "   PM2.5 2013 (total)  PM2.5 2013 (non-anthropogenic)  ...  \\\n",
       "0             11.5227                          2.1314  ...   \n",
       "1              9.9034                          2.2408  ...   \n",
       "2              7.8215                          2.0360  ...   \n",
       "3              8.7661                          2.2440  ...   \n",
       "\n",
       "   PM2.5 2016 (anthropogenic)  PM2.5 2017 (total)  \\\n",
       "0                      9.4566              9.4113   \n",
       "1                      7.5940              7.0468   \n",
       "2                      5.2794              5.8877   \n",
       "3                      6.1638              6.1617   \n",
       "\n",
       "   PM2.5 2017 (non-anthropogenic)  PM2.5 2017 (anthropogenic)  \\\n",
       "0                          0.5073                      8.9040   \n",
       "1                          0.5102                      6.5366   \n",
       "2                          0.4607                      5.4270   \n",
       "3                          0.5045                      5.6572   \n",
       "\n",
       "   PM2.5 2018 (total)  PM2.5 2018 (non-anthropogenic)  \\\n",
       "0              9.5246                          0.4429   \n",
       "1              7.7765                          0.5999   \n",
       "2              5.7886                          0.3816   \n",
       "3              7.4441                          0.5812   \n",
       "\n",
       "   PM2.5 2018 (anthropogenic)  PM2.5 2019 (total)  \\\n",
       "0                      9.0817              9.5741   \n",
       "1                      7.1766              7.5190   \n",
       "2                      5.4070              5.5153   \n",
       "3                      6.8629              5.8943   \n",
       "\n",
       "   PM2.5 2019 (non-anthropogenic)  PM2.5 2019 (anthropogenic)  \n",
       "0                          0.5311                      9.0430  \n",
       "1                          0.5881                      6.9308  \n",
       "2                          0.3569                      5.1584  \n",
       "3                          0.4429                      5.4514  \n",
       "\n",
       "[4 rows x 29 columns]"
      ],
      "text/html": "<div>\n<style scoped>\n    .dataframe tbody tr th:only-of-type {\n        vertical-align: middle;\n    }\n\n    .dataframe tbody tr th {\n        vertical-align: top;\n    }\n\n    .dataframe thead th {\n        text-align: right;\n    }\n</style>\n<table border=\"1\" class=\"dataframe\">\n  <thead>\n    <tr style=\"text-align: right;\">\n      <th></th>\n      <th>Area code</th>\n      <th>PM2.5 2011 (total)</th>\n      <th>PM2.5 2011 (non-anthropogenic)</th>\n      <th>PM2.5 2011 (anthropogenic)</th>\n      <th>Country</th>\n      <th>PM2.5 2012 (total)</th>\n      <th>PM2.5 2012 (non-anthropogenic)</th>\n      <th>PM2.5 2012 (anthropogenic)</th>\n      <th>PM2.5 2013 (total)</th>\n      <th>PM2.5 2013 (non-anthropogenic)</th>\n      <th>...</th>\n      <th>PM2.5 2016 (anthropogenic)</th>\n      <th>PM2.5 2017 (total)</th>\n      <th>PM2.5 2017 (non-anthropogenic)</th>\n      <th>PM2.5 2017 (anthropogenic)</th>\n      <th>PM2.5 2018 (total)</th>\n      <th>PM2.5 2018 (non-anthropogenic)</th>\n      <th>PM2.5 2018 (anthropogenic)</th>\n      <th>PM2.5 2019 (total)</th>\n      <th>PM2.5 2019 (non-anthropogenic)</th>\n      <th>PM2.5 2019 (anthropogenic)</th>\n    </tr>\n  </thead>\n  <tbody>\n    <tr>\n      <th>0</th>\n      <td>Eng</td>\n      <td>12.0891</td>\n      <td>2.6357</td>\n      <td>9.4535</td>\n      <td>England</td>\n      <td>11.1081</td>\n      <td>2.1095</td>\n      <td>8.9986</td>\n      <td>11.5227</td>\n      <td>2.1314</td>\n      <td>...</td>\n      <td>9.4566</td>\n      <td>9.4113</td>\n      <td>0.5073</td>\n      <td>8.9040</td>\n      <td>9.5246</td>\n      <td>0.4429</td>\n      <td>9.0817</td>\n      <td>9.5741</td>\n      <td>0.5311</td>\n      <td>9.0430</td>\n    </tr>\n    <tr>\n      <th>1</th>\n      <td>Wal</td>\n      <td>9.4192</td>\n      <td>2.7214</td>\n      <td>6.6978</td>\n      <td>Wales</td>\n      <td>8.7860</td>\n      <td>2.1979</td>\n      <td>6.5880</td>\n      <td>9.9034</td>\n      <td>2.2408</td>\n      <td>...</td>\n      <td>7.5940</td>\n      <td>7.0468</td>\n      <td>0.5102</td>\n      <td>6.5366</td>\n      <td>7.7765</td>\n      <td>0.5999</td>\n      <td>7.1766</td>\n      <td>7.5190</td>\n      <td>0.5881</td>\n      <td>6.9308</td>\n    </tr>\n    <tr>\n      <th>2</th>\n      <td>Sco</td>\n      <td>8.0037</td>\n      <td>2.5759</td>\n      <td>5.4277</td>\n      <td>Scotland</td>\n      <td>7.6107</td>\n      <td>2.0355</td>\n      <td>5.5752</td>\n      <td>7.8215</td>\n      <td>2.0360</td>\n      <td>...</td>\n      <td>5.2794</td>\n      <td>5.8877</td>\n      <td>0.4607</td>\n      <td>5.4270</td>\n      <td>5.7886</td>\n      <td>0.3816</td>\n      <td>5.4070</td>\n      <td>5.5153</td>\n      <td>0.3569</td>\n      <td>5.1584</td>\n    </tr>\n    <tr>\n      <th>3</th>\n      <td>Nir</td>\n      <td>7.7701</td>\n      <td>2.7103</td>\n      <td>5.0598</td>\n      <td>Northern Ireland</td>\n      <td>7.6487</td>\n      <td>2.1100</td>\n      <td>5.5386</td>\n      <td>8.7661</td>\n      <td>2.2440</td>\n      <td>...</td>\n      <td>6.1638</td>\n      <td>6.1617</td>\n      <td>0.5045</td>\n      <td>5.6572</td>\n      <td>7.4441</td>\n      <td>0.5812</td>\n      <td>6.8629</td>\n      <td>5.8943</td>\n      <td>0.4429</td>\n      <td>5.4514</td>\n    </tr>\n  </tbody>\n</table>\n<p>4 rows × 29 columns</p>\n</div>"
     },
     "metadata": {},
     "execution_count": 2
    }
   ],
   "source": [
    "air_three_extracted = extract_air_three().pipe(validate_air_three_extracted)\n",
    "air_three_extracted.head()"
   ]
  },
  {
   "cell_type": "code",
   "execution_count": 3,
   "metadata": {},
   "outputs": [
    {
     "output_type": "execute_result",
     "data": {
      "text/plain": [
       "   Area code  Country  year measure    ugm-3\n",
       "0        Eng  England  2011   total  12.0891\n",
       "12       Eng  England  2012   total  11.1081\n",
       "24       Eng  England  2013   total  11.5227\n",
       "36       Eng  England  2014   total  11.1680\n",
       "48       Eng  England  2015   total   9.4215"
      ],
      "text/html": "<div>\n<style scoped>\n    .dataframe tbody tr th:only-of-type {\n        vertical-align: middle;\n    }\n\n    .dataframe tbody tr th {\n        vertical-align: top;\n    }\n\n    .dataframe thead th {\n        text-align: right;\n    }\n</style>\n<table border=\"1\" class=\"dataframe\">\n  <thead>\n    <tr style=\"text-align: right;\">\n      <th></th>\n      <th>Area code</th>\n      <th>Country</th>\n      <th>year</th>\n      <th>measure</th>\n      <th>ugm-3</th>\n    </tr>\n  </thead>\n  <tbody>\n    <tr>\n      <th>0</th>\n      <td>Eng</td>\n      <td>England</td>\n      <td>2011</td>\n      <td>total</td>\n      <td>12.0891</td>\n    </tr>\n    <tr>\n      <th>12</th>\n      <td>Eng</td>\n      <td>England</td>\n      <td>2012</td>\n      <td>total</td>\n      <td>11.1081</td>\n    </tr>\n    <tr>\n      <th>24</th>\n      <td>Eng</td>\n      <td>England</td>\n      <td>2013</td>\n      <td>total</td>\n      <td>11.5227</td>\n    </tr>\n    <tr>\n      <th>36</th>\n      <td>Eng</td>\n      <td>England</td>\n      <td>2014</td>\n      <td>total</td>\n      <td>11.1680</td>\n    </tr>\n    <tr>\n      <th>48</th>\n      <td>Eng</td>\n      <td>England</td>\n      <td>2015</td>\n      <td>total</td>\n      <td>9.4215</td>\n    </tr>\n  </tbody>\n</table>\n</div>"
     },
     "metadata": {},
     "execution_count": 3
    }
   ],
   "source": [
    "air_three_transformed = transform_air_three(air_three_extracted).pipe(validate_air_three_transformed)\n",
    "air_three_transformed.head()"
   ]
  },
  {
   "cell_type": "code",
   "execution_count": null,
   "metadata": {},
   "outputs": [],
   "source": []
  }
 ]
}
