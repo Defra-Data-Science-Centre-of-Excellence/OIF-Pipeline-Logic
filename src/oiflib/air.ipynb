{
 "metadata": {
  "language_info": {
   "codemirror_mode": {
    "name": "ipython",
    "version": 3
   },
   "file_extension": ".py",
   "mimetype": "text/x-python",
   "name": "python",
   "nbconvert_exporter": "python",
   "pygments_lexer": "ipython3",
   "version": "3.9.1-final"
  },
  "orig_nbformat": 2,
  "kernelspec": {
   "name": "python3",
   "display_name": "Python 3",
   "language": "python"
  }
 },
 "nbformat": 4,
 "nbformat_minor": 2,
 "cells": [
  {
   "source": [
    "## Import functions"
   ],
   "cell_type": "markdown",
   "metadata": {}
  },
  {
   "cell_type": "code",
   "execution_count": 1,
   "metadata": {},
   "outputs": [],
   "source": [
    "from oiflib.extract import extract\n",
    "from oiflib.air.one.enrich import enrich_air_one\n",
    "from oiflib.air.one.transform import transform_air_one\n",
    "from oiflib.air.one.validate import validate_air_one_extracted, validate_air_one_transformed, validate_air_one_enriched\n",
    "from oiflib.air.two.enrich import enrich_air_two\n",
    "from oiflib.air.two.transform import transform_air_two\n",
    "from oiflib.air.two.validate import validate_air_two_extracted, validate_air_two_transformed, validate_air_two_enriched"
   ]
  },
  {
   "source": [
    "## Air One"
   ],
   "cell_type": "markdown",
   "metadata": {}
  },
  {
   "cell_type": "code",
   "execution_count": 2,
   "metadata": {},
   "outputs": [
    {
     "output_type": "execute_result",
     "data": {
      "text/plain": [
       "  ShortPollName NFRCode                                      SourceName  \\\n",
       "0            CO    1A1a                                  Autogenerators   \n",
       "1            CO    1A1a  Miscellaneous industrial/commercial combustion   \n",
       "2            CO    1A1a                                  Power stations   \n",
       "3            CO    1A1a                        Public sector combustion   \n",
       "4            CO    1A1b                         Refineries - combustion   \n",
       "\n",
       "        1990       1995       1998       1999       2000       2001  \\\n",
       "0   0.000000   0.000000   0.000861   0.000987   0.001225   0.001165   \n",
       "1   0.372920   0.285545   0.104246   0.108912   0.118016   0.123270   \n",
       "2  91.485663  85.075695  48.035092  43.356297  52.875139  53.176906   \n",
       "3   0.009175   0.015521   0.014372   0.014410   0.012844   0.013138   \n",
       "4   4.455526   4.998781   5.248910   4.862012   3.785558   2.391528   \n",
       "\n",
       "        2002  ...       2009       2010       2011       2012       2013  \\\n",
       "0   0.001197  ...   0.072842   0.188518   0.380950   0.773427   1.108654   \n",
       "1   0.126718  ...   0.135080   0.127430   0.144871   0.148156   0.172320   \n",
       "2  52.253263  ...  49.778303  54.550899  56.543332  67.445893  65.244769   \n",
       "3   0.014227  ...   0.013591   0.015413   0.017175   0.017028   0.018264   \n",
       "4   2.788338  ...   4.460696   3.287260   2.801700   3.162767   3.266939   \n",
       "\n",
       "        2014       2015       2016       2017       2018  \n",
       "0   1.654888   2.648169   4.194255   4.936837   5.536873  \n",
       "1   0.125973   0.133799   0.127731   0.144326   0.136516  \n",
       "2  55.655886  46.738127  30.714808  30.172769  38.881950  \n",
       "3   0.018127   0.019443   0.019173   0.022132   0.021411  \n",
       "4   4.154463   5.523977   4.606405   4.050079   3.934826  \n",
       "\n",
       "[5 rows x 26 columns]"
      ],
      "text/html": "<div>\n<style scoped>\n    .dataframe tbody tr th:only-of-type {\n        vertical-align: middle;\n    }\n\n    .dataframe tbody tr th {\n        vertical-align: top;\n    }\n\n    .dataframe thead th {\n        text-align: right;\n    }\n</style>\n<table border=\"1\" class=\"dataframe\">\n  <thead>\n    <tr style=\"text-align: right;\">\n      <th></th>\n      <th>ShortPollName</th>\n      <th>NFRCode</th>\n      <th>SourceName</th>\n      <th>1990</th>\n      <th>1995</th>\n      <th>1998</th>\n      <th>1999</th>\n      <th>2000</th>\n      <th>2001</th>\n      <th>2002</th>\n      <th>...</th>\n      <th>2009</th>\n      <th>2010</th>\n      <th>2011</th>\n      <th>2012</th>\n      <th>2013</th>\n      <th>2014</th>\n      <th>2015</th>\n      <th>2016</th>\n      <th>2017</th>\n      <th>2018</th>\n    </tr>\n  </thead>\n  <tbody>\n    <tr>\n      <th>0</th>\n      <td>CO</td>\n      <td>1A1a</td>\n      <td>Autogenerators</td>\n      <td>0.000000</td>\n      <td>0.000000</td>\n      <td>0.000861</td>\n      <td>0.000987</td>\n      <td>0.001225</td>\n      <td>0.001165</td>\n      <td>0.001197</td>\n      <td>...</td>\n      <td>0.072842</td>\n      <td>0.188518</td>\n      <td>0.380950</td>\n      <td>0.773427</td>\n      <td>1.108654</td>\n      <td>1.654888</td>\n      <td>2.648169</td>\n      <td>4.194255</td>\n      <td>4.936837</td>\n      <td>5.536873</td>\n    </tr>\n    <tr>\n      <th>1</th>\n      <td>CO</td>\n      <td>1A1a</td>\n      <td>Miscellaneous industrial/commercial combustion</td>\n      <td>0.372920</td>\n      <td>0.285545</td>\n      <td>0.104246</td>\n      <td>0.108912</td>\n      <td>0.118016</td>\n      <td>0.123270</td>\n      <td>0.126718</td>\n      <td>...</td>\n      <td>0.135080</td>\n      <td>0.127430</td>\n      <td>0.144871</td>\n      <td>0.148156</td>\n      <td>0.172320</td>\n      <td>0.125973</td>\n      <td>0.133799</td>\n      <td>0.127731</td>\n      <td>0.144326</td>\n      <td>0.136516</td>\n    </tr>\n    <tr>\n      <th>2</th>\n      <td>CO</td>\n      <td>1A1a</td>\n      <td>Power stations</td>\n      <td>91.485663</td>\n      <td>85.075695</td>\n      <td>48.035092</td>\n      <td>43.356297</td>\n      <td>52.875139</td>\n      <td>53.176906</td>\n      <td>52.253263</td>\n      <td>...</td>\n      <td>49.778303</td>\n      <td>54.550899</td>\n      <td>56.543332</td>\n      <td>67.445893</td>\n      <td>65.244769</td>\n      <td>55.655886</td>\n      <td>46.738127</td>\n      <td>30.714808</td>\n      <td>30.172769</td>\n      <td>38.881950</td>\n    </tr>\n    <tr>\n      <th>3</th>\n      <td>CO</td>\n      <td>1A1a</td>\n      <td>Public sector combustion</td>\n      <td>0.009175</td>\n      <td>0.015521</td>\n      <td>0.014372</td>\n      <td>0.014410</td>\n      <td>0.012844</td>\n      <td>0.013138</td>\n      <td>0.014227</td>\n      <td>...</td>\n      <td>0.013591</td>\n      <td>0.015413</td>\n      <td>0.017175</td>\n      <td>0.017028</td>\n      <td>0.018264</td>\n      <td>0.018127</td>\n      <td>0.019443</td>\n      <td>0.019173</td>\n      <td>0.022132</td>\n      <td>0.021411</td>\n    </tr>\n    <tr>\n      <th>4</th>\n      <td>CO</td>\n      <td>1A1b</td>\n      <td>Refineries - combustion</td>\n      <td>4.455526</td>\n      <td>4.998781</td>\n      <td>5.248910</td>\n      <td>4.862012</td>\n      <td>3.785558</td>\n      <td>2.391528</td>\n      <td>2.788338</td>\n      <td>...</td>\n      <td>4.460696</td>\n      <td>3.287260</td>\n      <td>2.801700</td>\n      <td>3.162767</td>\n      <td>3.266939</td>\n      <td>4.154463</td>\n      <td>5.523977</td>\n      <td>4.606405</td>\n      <td>4.050079</td>\n      <td>3.934826</td>\n    </tr>\n  </tbody>\n</table>\n<p>5 rows × 26 columns</p>\n</div>"
     },
     "metadata": {},
     "execution_count": 2
    }
   ],
   "source": [
    "air_one_extracted = extract(theme=\"air\", dataset=\"one\")\n",
    "air_one_extracted.head()"
   ]
  },
  {
   "cell_type": "code",
   "execution_count": 3,
   "metadata": {},
   "outputs": [
    {
     "output_type": "execute_result",
     "data": {
      "text/plain": [
       "  ShortPollName NFRCode                                      SourceName  \\\n",
       "0            CO    1A1a                                  Autogenerators   \n",
       "1            CO    1A1a  Miscellaneous industrial/commercial combustion   \n",
       "2            CO    1A1a                                  Power stations   \n",
       "3            CO    1A1a                        Public sector combustion   \n",
       "4            CO    1A1b                         Refineries - combustion   \n",
       "\n",
       "        1990       1995       1998       1999       2000       2001  \\\n",
       "0   0.000000   0.000000   0.000861   0.000987   0.001225   0.001165   \n",
       "1   0.372920   0.285545   0.104246   0.108912   0.118016   0.123270   \n",
       "2  91.485663  85.075695  48.035092  43.356297  52.875139  53.176906   \n",
       "3   0.009175   0.015521   0.014372   0.014410   0.012844   0.013138   \n",
       "4   4.455526   4.998781   5.248910   4.862012   3.785558   2.391528   \n",
       "\n",
       "        2002  ...       2009       2010       2011       2012       2013  \\\n",
       "0   0.001197  ...   0.072842   0.188518   0.380950   0.773427   1.108654   \n",
       "1   0.126718  ...   0.135080   0.127430   0.144871   0.148156   0.172320   \n",
       "2  52.253263  ...  49.778303  54.550899  56.543332  67.445893  65.244769   \n",
       "3   0.014227  ...   0.013591   0.015413   0.017175   0.017028   0.018264   \n",
       "4   2.788338  ...   4.460696   3.287260   2.801700   3.162767   3.266939   \n",
       "\n",
       "        2014       2015       2016       2017       2018  \n",
       "0   1.654888   2.648169   4.194255   4.936837   5.536873  \n",
       "1   0.125973   0.133799   0.127731   0.144326   0.136516  \n",
       "2  55.655886  46.738127  30.714808  30.172769  38.881950  \n",
       "3   0.018127   0.019443   0.019173   0.022132   0.021411  \n",
       "4   4.154463   5.523977   4.606405   4.050079   3.934826  \n",
       "\n",
       "[5 rows x 26 columns]"
      ],
      "text/html": "<div>\n<style scoped>\n    .dataframe tbody tr th:only-of-type {\n        vertical-align: middle;\n    }\n\n    .dataframe tbody tr th {\n        vertical-align: top;\n    }\n\n    .dataframe thead th {\n        text-align: right;\n    }\n</style>\n<table border=\"1\" class=\"dataframe\">\n  <thead>\n    <tr style=\"text-align: right;\">\n      <th></th>\n      <th>ShortPollName</th>\n      <th>NFRCode</th>\n      <th>SourceName</th>\n      <th>1990</th>\n      <th>1995</th>\n      <th>1998</th>\n      <th>1999</th>\n      <th>2000</th>\n      <th>2001</th>\n      <th>2002</th>\n      <th>...</th>\n      <th>2009</th>\n      <th>2010</th>\n      <th>2011</th>\n      <th>2012</th>\n      <th>2013</th>\n      <th>2014</th>\n      <th>2015</th>\n      <th>2016</th>\n      <th>2017</th>\n      <th>2018</th>\n    </tr>\n  </thead>\n  <tbody>\n    <tr>\n      <th>0</th>\n      <td>CO</td>\n      <td>1A1a</td>\n      <td>Autogenerators</td>\n      <td>0.000000</td>\n      <td>0.000000</td>\n      <td>0.000861</td>\n      <td>0.000987</td>\n      <td>0.001225</td>\n      <td>0.001165</td>\n      <td>0.001197</td>\n      <td>...</td>\n      <td>0.072842</td>\n      <td>0.188518</td>\n      <td>0.380950</td>\n      <td>0.773427</td>\n      <td>1.108654</td>\n      <td>1.654888</td>\n      <td>2.648169</td>\n      <td>4.194255</td>\n      <td>4.936837</td>\n      <td>5.536873</td>\n    </tr>\n    <tr>\n      <th>1</th>\n      <td>CO</td>\n      <td>1A1a</td>\n      <td>Miscellaneous industrial/commercial combustion</td>\n      <td>0.372920</td>\n      <td>0.285545</td>\n      <td>0.104246</td>\n      <td>0.108912</td>\n      <td>0.118016</td>\n      <td>0.123270</td>\n      <td>0.126718</td>\n      <td>...</td>\n      <td>0.135080</td>\n      <td>0.127430</td>\n      <td>0.144871</td>\n      <td>0.148156</td>\n      <td>0.172320</td>\n      <td>0.125973</td>\n      <td>0.133799</td>\n      <td>0.127731</td>\n      <td>0.144326</td>\n      <td>0.136516</td>\n    </tr>\n    <tr>\n      <th>2</th>\n      <td>CO</td>\n      <td>1A1a</td>\n      <td>Power stations</td>\n      <td>91.485663</td>\n      <td>85.075695</td>\n      <td>48.035092</td>\n      <td>43.356297</td>\n      <td>52.875139</td>\n      <td>53.176906</td>\n      <td>52.253263</td>\n      <td>...</td>\n      <td>49.778303</td>\n      <td>54.550899</td>\n      <td>56.543332</td>\n      <td>67.445893</td>\n      <td>65.244769</td>\n      <td>55.655886</td>\n      <td>46.738127</td>\n      <td>30.714808</td>\n      <td>30.172769</td>\n      <td>38.881950</td>\n    </tr>\n    <tr>\n      <th>3</th>\n      <td>CO</td>\n      <td>1A1a</td>\n      <td>Public sector combustion</td>\n      <td>0.009175</td>\n      <td>0.015521</td>\n      <td>0.014372</td>\n      <td>0.014410</td>\n      <td>0.012844</td>\n      <td>0.013138</td>\n      <td>0.014227</td>\n      <td>...</td>\n      <td>0.013591</td>\n      <td>0.015413</td>\n      <td>0.017175</td>\n      <td>0.017028</td>\n      <td>0.018264</td>\n      <td>0.018127</td>\n      <td>0.019443</td>\n      <td>0.019173</td>\n      <td>0.022132</td>\n      <td>0.021411</td>\n    </tr>\n    <tr>\n      <th>4</th>\n      <td>CO</td>\n      <td>1A1b</td>\n      <td>Refineries - combustion</td>\n      <td>4.455526</td>\n      <td>4.998781</td>\n      <td>5.248910</td>\n      <td>4.862012</td>\n      <td>3.785558</td>\n      <td>2.391528</td>\n      <td>2.788338</td>\n      <td>...</td>\n      <td>4.460696</td>\n      <td>3.287260</td>\n      <td>2.801700</td>\n      <td>3.162767</td>\n      <td>3.266939</td>\n      <td>4.154463</td>\n      <td>5.523977</td>\n      <td>4.606405</td>\n      <td>4.050079</td>\n      <td>3.934826</td>\n    </tr>\n  </tbody>\n</table>\n<p>5 rows × 26 columns</p>\n</div>"
     },
     "metadata": {},
     "execution_count": 3
    }
   ],
   "source": [
    "air_one_extracted_validated = validate_air_one_extracted(air_one_extracted)\n",
    "air_one_extracted_validated.head()"
   ]
  },
  {
   "cell_type": "code",
   "execution_count": 4,
   "metadata": {},
   "outputs": [
    {
     "output_type": "execute_result",
     "data": {
      "text/plain": [
       "  ShortPollName EmissionYear     Emission\n",
       "0           NOx         1990  2397.847344\n",
       "1         PM2.5         1990   174.144903\n",
       "2           SO2         1990  3134.835121\n",
       "3         NMVOC         1990  2109.138181\n",
       "4           NH3         1990   232.760876"
      ],
      "text/html": "<div>\n<style scoped>\n    .dataframe tbody tr th:only-of-type {\n        vertical-align: middle;\n    }\n\n    .dataframe tbody tr th {\n        vertical-align: top;\n    }\n\n    .dataframe thead th {\n        text-align: right;\n    }\n</style>\n<table border=\"1\" class=\"dataframe\">\n  <thead>\n    <tr style=\"text-align: right;\">\n      <th></th>\n      <th>ShortPollName</th>\n      <th>EmissionYear</th>\n      <th>Emission</th>\n    </tr>\n  </thead>\n  <tbody>\n    <tr>\n      <th>0</th>\n      <td>NOx</td>\n      <td>1990</td>\n      <td>2397.847344</td>\n    </tr>\n    <tr>\n      <th>1</th>\n      <td>PM2.5</td>\n      <td>1990</td>\n      <td>174.144903</td>\n    </tr>\n    <tr>\n      <th>2</th>\n      <td>SO2</td>\n      <td>1990</td>\n      <td>3134.835121</td>\n    </tr>\n    <tr>\n      <th>3</th>\n      <td>NMVOC</td>\n      <td>1990</td>\n      <td>2109.138181</td>\n    </tr>\n    <tr>\n      <th>4</th>\n      <td>NH3</td>\n      <td>1990</td>\n      <td>232.760876</td>\n    </tr>\n  </tbody>\n</table>\n</div>"
     },
     "metadata": {},
     "execution_count": 4
    }
   ],
   "source": [
    "air_one_transformed = transform_air_one(air_one_extracted_validated)\n",
    "air_one_transformed.head()"
   ]
  },
  {
   "cell_type": "code",
   "execution_count": 5,
   "metadata": {},
   "outputs": [
    {
     "output_type": "execute_result",
     "data": {
      "text/plain": [
       "  ShortPollName  EmissionYear     Emission\n",
       "0           NOx          1990  2397.847344\n",
       "1         PM2.5          1990   174.144903\n",
       "2           SO2          1990  3134.835121\n",
       "3         NMVOC          1990  2109.138181\n",
       "4           NH3          1990   232.760876"
      ],
      "text/html": "<div>\n<style scoped>\n    .dataframe tbody tr th:only-of-type {\n        vertical-align: middle;\n    }\n\n    .dataframe tbody tr th {\n        vertical-align: top;\n    }\n\n    .dataframe thead th {\n        text-align: right;\n    }\n</style>\n<table border=\"1\" class=\"dataframe\">\n  <thead>\n    <tr style=\"text-align: right;\">\n      <th></th>\n      <th>ShortPollName</th>\n      <th>EmissionYear</th>\n      <th>Emission</th>\n    </tr>\n  </thead>\n  <tbody>\n    <tr>\n      <th>0</th>\n      <td>NOx</td>\n      <td>1990</td>\n      <td>2397.847344</td>\n    </tr>\n    <tr>\n      <th>1</th>\n      <td>PM2.5</td>\n      <td>1990</td>\n      <td>174.144903</td>\n    </tr>\n    <tr>\n      <th>2</th>\n      <td>SO2</td>\n      <td>1990</td>\n      <td>3134.835121</td>\n    </tr>\n    <tr>\n      <th>3</th>\n      <td>NMVOC</td>\n      <td>1990</td>\n      <td>2109.138181</td>\n    </tr>\n    <tr>\n      <th>4</th>\n      <td>NH3</td>\n      <td>1990</td>\n      <td>232.760876</td>\n    </tr>\n  </tbody>\n</table>\n</div>"
     },
     "metadata": {},
     "execution_count": 5
    }
   ],
   "source": [
    "air_one_transformed_validated = validate_air_one_transformed(air_one_transformed)\n",
    "air_one_transformed_validated.head()"
   ]
  },
  {
   "cell_type": "code",
   "execution_count": 6,
   "metadata": {},
   "outputs": [
    {
     "output_type": "execute_result",
     "data": {
      "text/plain": [
       "  ShortPollName  EmissionYear     Emission  Index\n",
       "0           NOx          1990  2397.847344  100.0\n",
       "1         PM2.5          1990   174.144903  100.0\n",
       "2           SO2          1990  3134.835121  100.0\n",
       "3         NMVOC          1990  2109.138181  100.0\n",
       "4           NH3          1990   232.760876  100.0"
      ],
      "text/html": "<div>\n<style scoped>\n    .dataframe tbody tr th:only-of-type {\n        vertical-align: middle;\n    }\n\n    .dataframe tbody tr th {\n        vertical-align: top;\n    }\n\n    .dataframe thead th {\n        text-align: right;\n    }\n</style>\n<table border=\"1\" class=\"dataframe\">\n  <thead>\n    <tr style=\"text-align: right;\">\n      <th></th>\n      <th>ShortPollName</th>\n      <th>EmissionYear</th>\n      <th>Emission</th>\n      <th>Index</th>\n    </tr>\n  </thead>\n  <tbody>\n    <tr>\n      <th>0</th>\n      <td>NOx</td>\n      <td>1990</td>\n      <td>2397.847344</td>\n      <td>100.0</td>\n    </tr>\n    <tr>\n      <th>1</th>\n      <td>PM2.5</td>\n      <td>1990</td>\n      <td>174.144903</td>\n      <td>100.0</td>\n    </tr>\n    <tr>\n      <th>2</th>\n      <td>SO2</td>\n      <td>1990</td>\n      <td>3134.835121</td>\n      <td>100.0</td>\n    </tr>\n    <tr>\n      <th>3</th>\n      <td>NMVOC</td>\n      <td>1990</td>\n      <td>2109.138181</td>\n      <td>100.0</td>\n    </tr>\n    <tr>\n      <th>4</th>\n      <td>NH3</td>\n      <td>1990</td>\n      <td>232.760876</td>\n      <td>100.0</td>\n    </tr>\n  </tbody>\n</table>\n</div>"
     },
     "metadata": {},
     "execution_count": 6
    }
   ],
   "source": [
    "air_one_enriched = enrich_air_one(air_one_transformed_validated)\n",
    "air_one_enriched.head()"
   ]
  },
  {
   "cell_type": "code",
   "execution_count": 7,
   "metadata": {},
   "outputs": [
    {
     "output_type": "execute_result",
     "data": {
      "text/plain": [
       "    ShortPollName  EmissionYear     Emission       Index\n",
       "0             NOx          1990  2397.847344  100.000000\n",
       "1           PM2.5          1990   174.144903  100.000000\n",
       "2             SO2          1990  3134.835121  100.000000\n",
       "3           NMVOC          1990  2109.138181  100.000000\n",
       "4             NH3          1990   232.760876  100.000000\n",
       "..            ...           ...          ...         ...\n",
       "110           NOx          2018   604.799111   25.222586\n",
       "111         PM2.5          2018    83.142806   47.743462\n",
       "112           SO2          2018   118.684955    3.786003\n",
       "113         NMVOC          2018   526.173425   24.947319\n",
       "114           NH3          2018   189.813783   81.548835\n",
       "\n",
       "[115 rows x 4 columns]"
      ],
      "text/html": "<div>\n<style scoped>\n    .dataframe tbody tr th:only-of-type {\n        vertical-align: middle;\n    }\n\n    .dataframe tbody tr th {\n        vertical-align: top;\n    }\n\n    .dataframe thead th {\n        text-align: right;\n    }\n</style>\n<table border=\"1\" class=\"dataframe\">\n  <thead>\n    <tr style=\"text-align: right;\">\n      <th></th>\n      <th>ShortPollName</th>\n      <th>EmissionYear</th>\n      <th>Emission</th>\n      <th>Index</th>\n    </tr>\n  </thead>\n  <tbody>\n    <tr>\n      <th>0</th>\n      <td>NOx</td>\n      <td>1990</td>\n      <td>2397.847344</td>\n      <td>100.000000</td>\n    </tr>\n    <tr>\n      <th>1</th>\n      <td>PM2.5</td>\n      <td>1990</td>\n      <td>174.144903</td>\n      <td>100.000000</td>\n    </tr>\n    <tr>\n      <th>2</th>\n      <td>SO2</td>\n      <td>1990</td>\n      <td>3134.835121</td>\n      <td>100.000000</td>\n    </tr>\n    <tr>\n      <th>3</th>\n      <td>NMVOC</td>\n      <td>1990</td>\n      <td>2109.138181</td>\n      <td>100.000000</td>\n    </tr>\n    <tr>\n      <th>4</th>\n      <td>NH3</td>\n      <td>1990</td>\n      <td>232.760876</td>\n      <td>100.000000</td>\n    </tr>\n    <tr>\n      <th>...</th>\n      <td>...</td>\n      <td>...</td>\n      <td>...</td>\n      <td>...</td>\n    </tr>\n    <tr>\n      <th>110</th>\n      <td>NOx</td>\n      <td>2018</td>\n      <td>604.799111</td>\n      <td>25.222586</td>\n    </tr>\n    <tr>\n      <th>111</th>\n      <td>PM2.5</td>\n      <td>2018</td>\n      <td>83.142806</td>\n      <td>47.743462</td>\n    </tr>\n    <tr>\n      <th>112</th>\n      <td>SO2</td>\n      <td>2018</td>\n      <td>118.684955</td>\n      <td>3.786003</td>\n    </tr>\n    <tr>\n      <th>113</th>\n      <td>NMVOC</td>\n      <td>2018</td>\n      <td>526.173425</td>\n      <td>24.947319</td>\n    </tr>\n    <tr>\n      <th>114</th>\n      <td>NH3</td>\n      <td>2018</td>\n      <td>189.813783</td>\n      <td>81.548835</td>\n    </tr>\n  </tbody>\n</table>\n<p>115 rows × 4 columns</p>\n</div>"
     },
     "metadata": {},
     "execution_count": 7
    }
   ],
   "source": [
    "air_one_enriched_validated = validate_air_one_enriched(air_one_enriched)\n",
    "air_one_enriched_validated"
   ]
  },
  {
   "source": [
    "## Air Two"
   ],
   "cell_type": "markdown",
   "metadata": {}
  },
  {
   "cell_type": "code",
   "execution_count": 8,
   "metadata": {},
   "outputs": [
    {
     "output_type": "execute_result",
     "data": {
      "text/plain": [
       "      NCFormat                                           IPCC     BaseYear  \\\n",
       "0  Agriculture  1A4ci_Agriculture/Forestry/Fishing:Stationary   448.236698   \n",
       "1          NaN   1A4cii_Agriculture/Forestry/Fishing:Off-road  2719.368825   \n",
       "2          NaN                              2D1_Lubricant_Use     7.767285   \n",
       "3          NaN         3A1a Enteric Fermentation - dairy cows  4937.546160   \n",
       "4          NaN       3A1b Enteric Fermentation - other cattle  6909.494541   \n",
       "\n",
       "          1990         1995         1998         1999         2000  \\\n",
       "0   448.236698   549.552528   367.605127   438.324328   270.438785   \n",
       "1  2719.368825  2719.368825  2725.387975  2671.554418  2593.149380   \n",
       "2     7.767285     9.314177     5.806529     5.897370     3.859179   \n",
       "3  4937.546160  4586.433364  4373.198388  4449.788727  4224.340265   \n",
       "4  6909.494541  6736.106166  6539.617956  6516.940354  6368.233216   \n",
       "\n",
       "          2001         2002  ...         2009         2010         2011  \\\n",
       "0   376.522194   356.921967  ...   196.404229   189.943964   197.062955   \n",
       "1  2548.670148  2540.413980  ...  2153.009015  2167.667714  2195.136386   \n",
       "2     3.645740     3.812217  ...     0.654481     1.092524     0.948288   \n",
       "3  4092.551756  4064.182392  ...  3440.086625  3480.483444  3431.864940   \n",
       "4  5899.738748  5650.652492  ...  5834.378682  5901.872202  5784.199641   \n",
       "\n",
       "          2012         2013         2014         2015         2016  \\\n",
       "0   198.134368   191.095244   193.034749   191.176744   196.278836   \n",
       "1  2261.784209  2234.870631  2258.096455  2353.529130  2486.566932   \n",
       "2     0.462465     0.531016     0.368654     0.285644     0.245859   \n",
       "3  3362.599433  3415.878472  3581.989287  3629.927430  3549.688230   \n",
       "4  5714.541864  5710.529243  5695.926779  5654.749455  5702.018023   \n",
       "\n",
       "          2017         2018  \n",
       "0   199.425277   210.582748  \n",
       "1  2511.366672  2506.152075  \n",
       "2     0.247250     0.077642  \n",
       "3  3597.600232  3575.281527  \n",
       "4  5649.271323  5595.926070  \n",
       "\n",
       "[5 rows x 26 columns]"
      ],
      "text/html": "<div>\n<style scoped>\n    .dataframe tbody tr th:only-of-type {\n        vertical-align: middle;\n    }\n\n    .dataframe tbody tr th {\n        vertical-align: top;\n    }\n\n    .dataframe thead th {\n        text-align: right;\n    }\n</style>\n<table border=\"1\" class=\"dataframe\">\n  <thead>\n    <tr style=\"text-align: right;\">\n      <th></th>\n      <th>NCFormat</th>\n      <th>IPCC</th>\n      <th>BaseYear</th>\n      <th>1990</th>\n      <th>1995</th>\n      <th>1998</th>\n      <th>1999</th>\n      <th>2000</th>\n      <th>2001</th>\n      <th>2002</th>\n      <th>...</th>\n      <th>2009</th>\n      <th>2010</th>\n      <th>2011</th>\n      <th>2012</th>\n      <th>2013</th>\n      <th>2014</th>\n      <th>2015</th>\n      <th>2016</th>\n      <th>2017</th>\n      <th>2018</th>\n    </tr>\n  </thead>\n  <tbody>\n    <tr>\n      <th>0</th>\n      <td>Agriculture</td>\n      <td>1A4ci_Agriculture/Forestry/Fishing:Stationary</td>\n      <td>448.236698</td>\n      <td>448.236698</td>\n      <td>549.552528</td>\n      <td>367.605127</td>\n      <td>438.324328</td>\n      <td>270.438785</td>\n      <td>376.522194</td>\n      <td>356.921967</td>\n      <td>...</td>\n      <td>196.404229</td>\n      <td>189.943964</td>\n      <td>197.062955</td>\n      <td>198.134368</td>\n      <td>191.095244</td>\n      <td>193.034749</td>\n      <td>191.176744</td>\n      <td>196.278836</td>\n      <td>199.425277</td>\n      <td>210.582748</td>\n    </tr>\n    <tr>\n      <th>1</th>\n      <td>NaN</td>\n      <td>1A4cii_Agriculture/Forestry/Fishing:Off-road</td>\n      <td>2719.368825</td>\n      <td>2719.368825</td>\n      <td>2719.368825</td>\n      <td>2725.387975</td>\n      <td>2671.554418</td>\n      <td>2593.149380</td>\n      <td>2548.670148</td>\n      <td>2540.413980</td>\n      <td>...</td>\n      <td>2153.009015</td>\n      <td>2167.667714</td>\n      <td>2195.136386</td>\n      <td>2261.784209</td>\n      <td>2234.870631</td>\n      <td>2258.096455</td>\n      <td>2353.529130</td>\n      <td>2486.566932</td>\n      <td>2511.366672</td>\n      <td>2506.152075</td>\n    </tr>\n    <tr>\n      <th>2</th>\n      <td>NaN</td>\n      <td>2D1_Lubricant_Use</td>\n      <td>7.767285</td>\n      <td>7.767285</td>\n      <td>9.314177</td>\n      <td>5.806529</td>\n      <td>5.897370</td>\n      <td>3.859179</td>\n      <td>3.645740</td>\n      <td>3.812217</td>\n      <td>...</td>\n      <td>0.654481</td>\n      <td>1.092524</td>\n      <td>0.948288</td>\n      <td>0.462465</td>\n      <td>0.531016</td>\n      <td>0.368654</td>\n      <td>0.285644</td>\n      <td>0.245859</td>\n      <td>0.247250</td>\n      <td>0.077642</td>\n    </tr>\n    <tr>\n      <th>3</th>\n      <td>NaN</td>\n      <td>3A1a Enteric Fermentation - dairy cows</td>\n      <td>4937.546160</td>\n      <td>4937.546160</td>\n      <td>4586.433364</td>\n      <td>4373.198388</td>\n      <td>4449.788727</td>\n      <td>4224.340265</td>\n      <td>4092.551756</td>\n      <td>4064.182392</td>\n      <td>...</td>\n      <td>3440.086625</td>\n      <td>3480.483444</td>\n      <td>3431.864940</td>\n      <td>3362.599433</td>\n      <td>3415.878472</td>\n      <td>3581.989287</td>\n      <td>3629.927430</td>\n      <td>3549.688230</td>\n      <td>3597.600232</td>\n      <td>3575.281527</td>\n    </tr>\n    <tr>\n      <th>4</th>\n      <td>NaN</td>\n      <td>3A1b Enteric Fermentation - other cattle</td>\n      <td>6909.494541</td>\n      <td>6909.494541</td>\n      <td>6736.106166</td>\n      <td>6539.617956</td>\n      <td>6516.940354</td>\n      <td>6368.233216</td>\n      <td>5899.738748</td>\n      <td>5650.652492</td>\n      <td>...</td>\n      <td>5834.378682</td>\n      <td>5901.872202</td>\n      <td>5784.199641</td>\n      <td>5714.541864</td>\n      <td>5710.529243</td>\n      <td>5695.926779</td>\n      <td>5654.749455</td>\n      <td>5702.018023</td>\n      <td>5649.271323</td>\n      <td>5595.926070</td>\n    </tr>\n  </tbody>\n</table>\n<p>5 rows × 26 columns</p>\n</div>"
     },
     "metadata": {},
     "execution_count": 8
    }
   ],
   "source": [
    "air_two_extracted = extract(theme=\"air\", dataset=\"two\")\n",
    "air_two_extracted.head()"
   ]
  },
  {
   "cell_type": "code",
   "execution_count": 9,
   "metadata": {},
   "outputs": [
    {
     "output_type": "execute_result",
     "data": {
      "text/plain": [
       "      NCFormat                                           IPCC     BaseYear  \\\n",
       "0  Agriculture  1A4ci_Agriculture/Forestry/Fishing:Stationary   448.236698   \n",
       "1          NaN   1A4cii_Agriculture/Forestry/Fishing:Off-road  2719.368825   \n",
       "2          NaN                              2D1_Lubricant_Use     7.767285   \n",
       "3          NaN         3A1a Enteric Fermentation - dairy cows  4937.546160   \n",
       "4          NaN       3A1b Enteric Fermentation - other cattle  6909.494541   \n",
       "\n",
       "          1990         1995         1998         1999         2000  \\\n",
       "0   448.236698   549.552528   367.605127   438.324328   270.438785   \n",
       "1  2719.368825  2719.368825  2725.387975  2671.554418  2593.149380   \n",
       "2     7.767285     9.314177     5.806529     5.897370     3.859179   \n",
       "3  4937.546160  4586.433364  4373.198388  4449.788727  4224.340265   \n",
       "4  6909.494541  6736.106166  6539.617956  6516.940354  6368.233216   \n",
       "\n",
       "          2001         2002  ...         2009         2010         2011  \\\n",
       "0   376.522194   356.921967  ...   196.404229   189.943964   197.062955   \n",
       "1  2548.670148  2540.413980  ...  2153.009015  2167.667714  2195.136386   \n",
       "2     3.645740     3.812217  ...     0.654481     1.092524     0.948288   \n",
       "3  4092.551756  4064.182392  ...  3440.086625  3480.483444  3431.864940   \n",
       "4  5899.738748  5650.652492  ...  5834.378682  5901.872202  5784.199641   \n",
       "\n",
       "          2012         2013         2014         2015         2016  \\\n",
       "0   198.134368   191.095244   193.034749   191.176744   196.278836   \n",
       "1  2261.784209  2234.870631  2258.096455  2353.529130  2486.566932   \n",
       "2     0.462465     0.531016     0.368654     0.285644     0.245859   \n",
       "3  3362.599433  3415.878472  3581.989287  3629.927430  3549.688230   \n",
       "4  5714.541864  5710.529243  5695.926779  5654.749455  5702.018023   \n",
       "\n",
       "          2017         2018  \n",
       "0   199.425277   210.582748  \n",
       "1  2511.366672  2506.152075  \n",
       "2     0.247250     0.077642  \n",
       "3  3597.600232  3575.281527  \n",
       "4  5649.271323  5595.926070  \n",
       "\n",
       "[5 rows x 26 columns]"
      ],
      "text/html": "<div>\n<style scoped>\n    .dataframe tbody tr th:only-of-type {\n        vertical-align: middle;\n    }\n\n    .dataframe tbody tr th {\n        vertical-align: top;\n    }\n\n    .dataframe thead th {\n        text-align: right;\n    }\n</style>\n<table border=\"1\" class=\"dataframe\">\n  <thead>\n    <tr style=\"text-align: right;\">\n      <th></th>\n      <th>NCFormat</th>\n      <th>IPCC</th>\n      <th>BaseYear</th>\n      <th>1990</th>\n      <th>1995</th>\n      <th>1998</th>\n      <th>1999</th>\n      <th>2000</th>\n      <th>2001</th>\n      <th>2002</th>\n      <th>...</th>\n      <th>2009</th>\n      <th>2010</th>\n      <th>2011</th>\n      <th>2012</th>\n      <th>2013</th>\n      <th>2014</th>\n      <th>2015</th>\n      <th>2016</th>\n      <th>2017</th>\n      <th>2018</th>\n    </tr>\n  </thead>\n  <tbody>\n    <tr>\n      <th>0</th>\n      <td>Agriculture</td>\n      <td>1A4ci_Agriculture/Forestry/Fishing:Stationary</td>\n      <td>448.236698</td>\n      <td>448.236698</td>\n      <td>549.552528</td>\n      <td>367.605127</td>\n      <td>438.324328</td>\n      <td>270.438785</td>\n      <td>376.522194</td>\n      <td>356.921967</td>\n      <td>...</td>\n      <td>196.404229</td>\n      <td>189.943964</td>\n      <td>197.062955</td>\n      <td>198.134368</td>\n      <td>191.095244</td>\n      <td>193.034749</td>\n      <td>191.176744</td>\n      <td>196.278836</td>\n      <td>199.425277</td>\n      <td>210.582748</td>\n    </tr>\n    <tr>\n      <th>1</th>\n      <td>NaN</td>\n      <td>1A4cii_Agriculture/Forestry/Fishing:Off-road</td>\n      <td>2719.368825</td>\n      <td>2719.368825</td>\n      <td>2719.368825</td>\n      <td>2725.387975</td>\n      <td>2671.554418</td>\n      <td>2593.149380</td>\n      <td>2548.670148</td>\n      <td>2540.413980</td>\n      <td>...</td>\n      <td>2153.009015</td>\n      <td>2167.667714</td>\n      <td>2195.136386</td>\n      <td>2261.784209</td>\n      <td>2234.870631</td>\n      <td>2258.096455</td>\n      <td>2353.529130</td>\n      <td>2486.566932</td>\n      <td>2511.366672</td>\n      <td>2506.152075</td>\n    </tr>\n    <tr>\n      <th>2</th>\n      <td>NaN</td>\n      <td>2D1_Lubricant_Use</td>\n      <td>7.767285</td>\n      <td>7.767285</td>\n      <td>9.314177</td>\n      <td>5.806529</td>\n      <td>5.897370</td>\n      <td>3.859179</td>\n      <td>3.645740</td>\n      <td>3.812217</td>\n      <td>...</td>\n      <td>0.654481</td>\n      <td>1.092524</td>\n      <td>0.948288</td>\n      <td>0.462465</td>\n      <td>0.531016</td>\n      <td>0.368654</td>\n      <td>0.285644</td>\n      <td>0.245859</td>\n      <td>0.247250</td>\n      <td>0.077642</td>\n    </tr>\n    <tr>\n      <th>3</th>\n      <td>NaN</td>\n      <td>3A1a Enteric Fermentation - dairy cows</td>\n      <td>4937.546160</td>\n      <td>4937.546160</td>\n      <td>4586.433364</td>\n      <td>4373.198388</td>\n      <td>4449.788727</td>\n      <td>4224.340265</td>\n      <td>4092.551756</td>\n      <td>4064.182392</td>\n      <td>...</td>\n      <td>3440.086625</td>\n      <td>3480.483444</td>\n      <td>3431.864940</td>\n      <td>3362.599433</td>\n      <td>3415.878472</td>\n      <td>3581.989287</td>\n      <td>3629.927430</td>\n      <td>3549.688230</td>\n      <td>3597.600232</td>\n      <td>3575.281527</td>\n    </tr>\n    <tr>\n      <th>4</th>\n      <td>NaN</td>\n      <td>3A1b Enteric Fermentation - other cattle</td>\n      <td>6909.494541</td>\n      <td>6909.494541</td>\n      <td>6736.106166</td>\n      <td>6539.617956</td>\n      <td>6516.940354</td>\n      <td>6368.233216</td>\n      <td>5899.738748</td>\n      <td>5650.652492</td>\n      <td>...</td>\n      <td>5834.378682</td>\n      <td>5901.872202</td>\n      <td>5784.199641</td>\n      <td>5714.541864</td>\n      <td>5710.529243</td>\n      <td>5695.926779</td>\n      <td>5654.749455</td>\n      <td>5702.018023</td>\n      <td>5649.271323</td>\n      <td>5595.926070</td>\n    </tr>\n  </tbody>\n</table>\n<p>5 rows × 26 columns</p>\n</div>"
     },
     "metadata": {},
     "execution_count": 9
    }
   ],
   "source": [
    "air_two_extracted_validated = validate_air_two_extracted(air_two_extracted)\n",
    "air_two_extracted_validated.head()"
   ]
  },
  {
   "cell_type": "code",
   "execution_count": 10,
   "metadata": {},
   "outputs": [
    {
     "output_type": "execute_result",
     "data": {
      "text/plain": [
       "      NCFormat                                           IPCC EmissionYear  \\\n",
       "0  Agriculture  1A4ci_Agriculture/Forestry/Fishing:Stationary         1990   \n",
       "1  Agriculture   1A4cii_Agriculture/Forestry/Fishing:Off-road         1990   \n",
       "2  Agriculture                              2D1_Lubricant_Use         1990   \n",
       "3  Agriculture         3A1a Enteric Fermentation - dairy cows         1990   \n",
       "4  Agriculture       3A1b Enteric Fermentation - other cattle         1990   \n",
       "\n",
       "     CO2 Equiv  \n",
       "0   448.236698  \n",
       "1  2719.368825  \n",
       "2     7.767285  \n",
       "3  4937.546160  \n",
       "4  6909.494541  "
      ],
      "text/html": "<div>\n<style scoped>\n    .dataframe tbody tr th:only-of-type {\n        vertical-align: middle;\n    }\n\n    .dataframe tbody tr th {\n        vertical-align: top;\n    }\n\n    .dataframe thead th {\n        text-align: right;\n    }\n</style>\n<table border=\"1\" class=\"dataframe\">\n  <thead>\n    <tr style=\"text-align: right;\">\n      <th></th>\n      <th>NCFormat</th>\n      <th>IPCC</th>\n      <th>EmissionYear</th>\n      <th>CO2 Equiv</th>\n    </tr>\n  </thead>\n  <tbody>\n    <tr>\n      <th>0</th>\n      <td>Agriculture</td>\n      <td>1A4ci_Agriculture/Forestry/Fishing:Stationary</td>\n      <td>1990</td>\n      <td>448.236698</td>\n    </tr>\n    <tr>\n      <th>1</th>\n      <td>Agriculture</td>\n      <td>1A4cii_Agriculture/Forestry/Fishing:Off-road</td>\n      <td>1990</td>\n      <td>2719.368825</td>\n    </tr>\n    <tr>\n      <th>2</th>\n      <td>Agriculture</td>\n      <td>2D1_Lubricant_Use</td>\n      <td>1990</td>\n      <td>7.767285</td>\n    </tr>\n    <tr>\n      <th>3</th>\n      <td>Agriculture</td>\n      <td>3A1a Enteric Fermentation - dairy cows</td>\n      <td>1990</td>\n      <td>4937.546160</td>\n    </tr>\n    <tr>\n      <th>4</th>\n      <td>Agriculture</td>\n      <td>3A1b Enteric Fermentation - other cattle</td>\n      <td>1990</td>\n      <td>6909.494541</td>\n    </tr>\n  </tbody>\n</table>\n</div>"
     },
     "metadata": {},
     "execution_count": 10
    }
   ],
   "source": [
    "air_two_transformed = transform_air_two(air_two_extracted_validated)\n",
    "air_two_transformed.head()"
   ]
  },
  {
   "cell_type": "code",
   "execution_count": 11,
   "metadata": {},
   "outputs": [
    {
     "output_type": "execute_result",
     "data": {
      "text/plain": [
       "      NCFormat                                           IPCC  EmissionYear  \\\n",
       "0  Agriculture  1A4ci_Agriculture/Forestry/Fishing:Stationary          1990   \n",
       "1  Agriculture   1A4cii_Agriculture/Forestry/Fishing:Off-road          1990   \n",
       "2  Agriculture                              2D1_Lubricant_Use          1990   \n",
       "3  Agriculture         3A1a Enteric Fermentation - dairy cows          1990   \n",
       "4  Agriculture       3A1b Enteric Fermentation - other cattle          1990   \n",
       "\n",
       "     CO2 Equiv  \n",
       "0   448.236698  \n",
       "1  2719.368825  \n",
       "2     7.767285  \n",
       "3  4937.546160  \n",
       "4  6909.494541  "
      ],
      "text/html": "<div>\n<style scoped>\n    .dataframe tbody tr th:only-of-type {\n        vertical-align: middle;\n    }\n\n    .dataframe tbody tr th {\n        vertical-align: top;\n    }\n\n    .dataframe thead th {\n        text-align: right;\n    }\n</style>\n<table border=\"1\" class=\"dataframe\">\n  <thead>\n    <tr style=\"text-align: right;\">\n      <th></th>\n      <th>NCFormat</th>\n      <th>IPCC</th>\n      <th>EmissionYear</th>\n      <th>CO2 Equiv</th>\n    </tr>\n  </thead>\n  <tbody>\n    <tr>\n      <th>0</th>\n      <td>Agriculture</td>\n      <td>1A4ci_Agriculture/Forestry/Fishing:Stationary</td>\n      <td>1990</td>\n      <td>448.236698</td>\n    </tr>\n    <tr>\n      <th>1</th>\n      <td>Agriculture</td>\n      <td>1A4cii_Agriculture/Forestry/Fishing:Off-road</td>\n      <td>1990</td>\n      <td>2719.368825</td>\n    </tr>\n    <tr>\n      <th>2</th>\n      <td>Agriculture</td>\n      <td>2D1_Lubricant_Use</td>\n      <td>1990</td>\n      <td>7.767285</td>\n    </tr>\n    <tr>\n      <th>3</th>\n      <td>Agriculture</td>\n      <td>3A1a Enteric Fermentation - dairy cows</td>\n      <td>1990</td>\n      <td>4937.546160</td>\n    </tr>\n    <tr>\n      <th>4</th>\n      <td>Agriculture</td>\n      <td>3A1b Enteric Fermentation - other cattle</td>\n      <td>1990</td>\n      <td>6909.494541</td>\n    </tr>\n  </tbody>\n</table>\n</div>"
     },
     "metadata": {},
     "execution_count": 11
    }
   ],
   "source": [
    "air_two_transformed_validated = validate_air_two_transformed(air_two_transformed)\n",
    "air_two_transformed_validated.head()"
   ]
  },
  {
   "cell_type": "code",
   "execution_count": 12,
   "metadata": {},
   "outputs": [
    {
     "output_type": "execute_result",
     "data": {
      "text/plain": [
       "  OIF_category  EmissionYear     CO2 Equiv\n",
       "0  Agriculture          1990  33483.078737\n",
       "1  Agriculture          1995  32023.748698\n",
       "2  Agriculture          1998  31845.280086\n",
       "3  Agriculture          1999  31873.301211\n",
       "4  Agriculture          2000  30221.892227"
      ],
      "text/html": "<div>\n<style scoped>\n    .dataframe tbody tr th:only-of-type {\n        vertical-align: middle;\n    }\n\n    .dataframe tbody tr th {\n        vertical-align: top;\n    }\n\n    .dataframe thead th {\n        text-align: right;\n    }\n</style>\n<table border=\"1\" class=\"dataframe\">\n  <thead>\n    <tr style=\"text-align: right;\">\n      <th></th>\n      <th>OIF_category</th>\n      <th>EmissionYear</th>\n      <th>CO2 Equiv</th>\n    </tr>\n  </thead>\n  <tbody>\n    <tr>\n      <th>0</th>\n      <td>Agriculture</td>\n      <td>1990</td>\n      <td>33483.078737</td>\n    </tr>\n    <tr>\n      <th>1</th>\n      <td>Agriculture</td>\n      <td>1995</td>\n      <td>32023.748698</td>\n    </tr>\n    <tr>\n      <th>2</th>\n      <td>Agriculture</td>\n      <td>1998</td>\n      <td>31845.280086</td>\n    </tr>\n    <tr>\n      <th>3</th>\n      <td>Agriculture</td>\n      <td>1999</td>\n      <td>31873.301211</td>\n    </tr>\n    <tr>\n      <th>4</th>\n      <td>Agriculture</td>\n      <td>2000</td>\n      <td>30221.892227</td>\n    </tr>\n  </tbody>\n</table>\n</div>"
     },
     "metadata": {},
     "execution_count": 12
    }
   ],
   "source": [
    "air_two_enriched = enrich_air_two(air_two_transformed_validated)\n",
    "air_two_enriched.head()"
   ]
  },
  {
   "cell_type": "code",
   "execution_count": 13,
   "metadata": {},
   "outputs": [
    {
     "output_type": "execute_result",
     "data": {
      "text/plain": [
       "    OIF_category  EmissionYear     CO2 Equiv\n",
       "0    Agriculture          1990  33483.078737\n",
       "1    Agriculture          1995  32023.748698\n",
       "2    Agriculture          1998  31845.280086\n",
       "3    Agriculture          1999  31873.301211\n",
       "4    Agriculture          2000  30221.892227\n",
       "..           ...           ...           ...\n",
       "110        Waste          2014  17708.697346\n",
       "111        Waste          2015  16940.514733\n",
       "112        Waste          2016  16437.123344\n",
       "113        Waste          2017  16805.735929\n",
       "114        Waste          2018  17027.476692\n",
       "\n",
       "[115 rows x 3 columns]"
      ],
      "text/html": "<div>\n<style scoped>\n    .dataframe tbody tr th:only-of-type {\n        vertical-align: middle;\n    }\n\n    .dataframe tbody tr th {\n        vertical-align: top;\n    }\n\n    .dataframe thead th {\n        text-align: right;\n    }\n</style>\n<table border=\"1\" class=\"dataframe\">\n  <thead>\n    <tr style=\"text-align: right;\">\n      <th></th>\n      <th>OIF_category</th>\n      <th>EmissionYear</th>\n      <th>CO2 Equiv</th>\n    </tr>\n  </thead>\n  <tbody>\n    <tr>\n      <th>0</th>\n      <td>Agriculture</td>\n      <td>1990</td>\n      <td>33483.078737</td>\n    </tr>\n    <tr>\n      <th>1</th>\n      <td>Agriculture</td>\n      <td>1995</td>\n      <td>32023.748698</td>\n    </tr>\n    <tr>\n      <th>2</th>\n      <td>Agriculture</td>\n      <td>1998</td>\n      <td>31845.280086</td>\n    </tr>\n    <tr>\n      <th>3</th>\n      <td>Agriculture</td>\n      <td>1999</td>\n      <td>31873.301211</td>\n    </tr>\n    <tr>\n      <th>4</th>\n      <td>Agriculture</td>\n      <td>2000</td>\n      <td>30221.892227</td>\n    </tr>\n    <tr>\n      <th>...</th>\n      <td>...</td>\n      <td>...</td>\n      <td>...</td>\n    </tr>\n    <tr>\n      <th>110</th>\n      <td>Waste</td>\n      <td>2014</td>\n      <td>17708.697346</td>\n    </tr>\n    <tr>\n      <th>111</th>\n      <td>Waste</td>\n      <td>2015</td>\n      <td>16940.514733</td>\n    </tr>\n    <tr>\n      <th>112</th>\n      <td>Waste</td>\n      <td>2016</td>\n      <td>16437.123344</td>\n    </tr>\n    <tr>\n      <th>113</th>\n      <td>Waste</td>\n      <td>2017</td>\n      <td>16805.735929</td>\n    </tr>\n    <tr>\n      <th>114</th>\n      <td>Waste</td>\n      <td>2018</td>\n      <td>17027.476692</td>\n    </tr>\n  </tbody>\n</table>\n<p>115 rows × 3 columns</p>\n</div>"
     },
     "metadata": {},
     "execution_count": 13
    }
   ],
   "source": [
    "air_two_enriched_validated = validate_air_two_enriched(air_two_enriched)\n",
    "air_two_enriched_validated"
   ]
  },
  {
   "cell_type": "code",
   "execution_count": null,
   "metadata": {},
   "outputs": [],
   "source": []
  }
 ]
}
